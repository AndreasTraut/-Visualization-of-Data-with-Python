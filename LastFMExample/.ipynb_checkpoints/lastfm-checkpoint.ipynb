{
 "cells": [
  {
   "cell_type": "markdown",
   "metadata": {},
   "source": [
    "## Last.FM Example\n",
    "\n",
    "Author: Andreas Traut\n",
    "\n",
    "In this example I downloaded my complete history of played songs since 2016 from www.last.fm (66'955 songs in total) and re-built some of these nice statistics and figues, which last.fm provides. This are for example a bar-plot with monthly aggregates of total played songs. Or top 10 songs of the week and so on. Having the same plots at the end as last.fm has prooves, that my results are correct. :-)\n",
    "\n",
    "The format of the csv-file is as follows:"
   ]
  },
  {
   "cell_type": "raw",
   "metadata": {},
   "source": [
    "Daniel Santacruz\t\tLento\t06.02.2020 16:45\n",
    "Mau y Ricky\tPara Aventuras y Curiosidades\tMi Mala\t06.02.2020 16:27\n",
    "Nelson Freitas\tElevate\tSomething Good\t06.02.2020 16:23\n",
    "Jennifer Dias\tLove U\tLove U\t06.02.2020 16:22\n",
    "Nelson Freitas\tSempre VerÃ£o\tEvery Day All Day\t06.02.2020 16:18\n",
    "Daniel Santacruz\tLento\tLento\t06.02.2020 16:16\n",
    "Mogli\tWanderer (Expedition Happiness Soundtrack)\tRoad Holes\t05.02.2020 15:49\n",
    "Serena Ryder\tHarmony (Deluxe)\tFor You\t04.02.2020 17:36\n",
    "Y'akoto\tPerfect Timing\tPerfect Timing\t04.02.2020 17:32\n",
    "Awa Ly\tFIVE AND A FEATHER\tLET ME LOVE YOU\t04.02.2020 17:28\n",
    "Doris Day\tTop 100 Jazz\tCheek to Cheek\t04.02.2020 17:24\n",
    "Kendra Morris\tSummertime\tSummertime\t04.02.2020 17:22"
   ]
  },
  {
   "cell_type": "code",
   "execution_count": 3,
   "metadata": {},
   "outputs": [],
   "source": [
    "import pandas as pd\n",
    "import numpy as np\n",
    "from matplotlib import pyplot"
   ]
  },
  {
   "cell_type": "code",
   "execution_count": null,
   "metadata": {},
   "outputs": [],
   "source": [
    "df = pd.read_csv('lastfm_data.csv', \n",
    "                 names=['artist', 'album', 'song', 'timestamp'], \n",
    "                 converters={'timestamp':pd.to_datetime})"
   ]
  },
  {
   "cell_type": "code",
   "execution_count": 5,
   "metadata": {},
   "outputs": [
    {
     "data": {
      "text/html": [
       "<div>\n",
       "<style scoped>\n",
       "    .dataframe tbody tr th:only-of-type {\n",
       "        vertical-align: middle;\n",
       "    }\n",
       "\n",
       "    .dataframe tbody tr th {\n",
       "        vertical-align: top;\n",
       "    }\n",
       "\n",
       "    .dataframe thead th {\n",
       "        text-align: right;\n",
       "    }\n",
       "</style>\n",
       "<table border=\"1\" class=\"dataframe\">\n",
       "  <thead>\n",
       "    <tr style=\"text-align: right;\">\n",
       "      <th></th>\n",
       "      <th>artist</th>\n",
       "      <th>album</th>\n",
       "      <th>song</th>\n",
       "      <th>timestamp</th>\n",
       "    </tr>\n",
       "  </thead>\n",
       "  <tbody>\n",
       "    <tr>\n",
       "      <th>0</th>\n",
       "      <td>Daniel Santacruz</td>\n",
       "      <td>NaN</td>\n",
       "      <td>Lento</td>\n",
       "      <td>2020-02-06 16:45:00</td>\n",
       "    </tr>\n",
       "    <tr>\n",
       "      <th>1</th>\n",
       "      <td>Mau y Ricky</td>\n",
       "      <td>Para Aventuras y Curiosidades</td>\n",
       "      <td>Mi Mala</td>\n",
       "      <td>2020-02-06 16:27:00</td>\n",
       "    </tr>\n",
       "    <tr>\n",
       "      <th>2</th>\n",
       "      <td>Nelson Freitas</td>\n",
       "      <td>Elevate</td>\n",
       "      <td>Something Good</td>\n",
       "      <td>2020-02-06 16:23:00</td>\n",
       "    </tr>\n",
       "    <tr>\n",
       "      <th>3</th>\n",
       "      <td>Jennifer Dias</td>\n",
       "      <td>Love U</td>\n",
       "      <td>Love U</td>\n",
       "      <td>2020-02-06 16:22:00</td>\n",
       "    </tr>\n",
       "    <tr>\n",
       "      <th>4</th>\n",
       "      <td>Nelson Freitas</td>\n",
       "      <td>Sempre Verão</td>\n",
       "      <td>Every Day All Day</td>\n",
       "      <td>2020-02-06 16:18:00</td>\n",
       "    </tr>\n",
       "  </tbody>\n",
       "</table>\n",
       "</div>"
      ],
      "text/plain": [
       "             artist                          album               song  \\\n",
       "0  Daniel Santacruz                            NaN              Lento   \n",
       "1       Mau y Ricky  Para Aventuras y Curiosidades            Mi Mala   \n",
       "2    Nelson Freitas                        Elevate     Something Good   \n",
       "3     Jennifer Dias                         Love U             Love U   \n",
       "4    Nelson Freitas                   Sempre Verão  Every Day All Day   \n",
       "\n",
       "            timestamp  \n",
       "0 2020-02-06 16:45:00  \n",
       "1 2020-02-06 16:27:00  \n",
       "2 2020-02-06 16:23:00  \n",
       "3 2020-02-06 16:22:00  \n",
       "4 2020-02-06 16:18:00  "
      ]
     },
     "execution_count": 5,
     "metadata": {},
     "output_type": "execute_result"
    }
   ],
   "source": [
    "df.head()"
   ]
  },
  {
   "cell_type": "markdown",
   "metadata": {},
   "source": [
    "First I extraced the year/month/date/weeofyear/hour/weekday from the timestamp"
   ]
  },
  {
   "cell_type": "code",
   "execution_count": 9,
   "metadata": {},
   "outputs": [],
   "source": [
    "#%% Extracting year/month/... from timestamp and adding as new columns\n",
    "dates = pd.DatetimeIndex(df['timestamp'])\n",
    "df['year'] = dates.year\n",
    "df['month'] = dates.month\n",
    "df['weekofyear'] = dates.weekofyear\n",
    "df['hour']= dates.hour\n",
    "df['weekday'] = dates.weekday   #Monday=0"
   ]
  },
  {
   "cell_type": "code",
   "execution_count": 10,
   "metadata": {},
   "outputs": [
    {
     "data": {
      "text/html": [
       "<div>\n",
       "<style scoped>\n",
       "    .dataframe tbody tr th:only-of-type {\n",
       "        vertical-align: middle;\n",
       "    }\n",
       "\n",
       "    .dataframe tbody tr th {\n",
       "        vertical-align: top;\n",
       "    }\n",
       "\n",
       "    .dataframe thead th {\n",
       "        text-align: right;\n",
       "    }\n",
       "</style>\n",
       "<table border=\"1\" class=\"dataframe\">\n",
       "  <thead>\n",
       "    <tr style=\"text-align: right;\">\n",
       "      <th></th>\n",
       "      <th>artist</th>\n",
       "      <th>album</th>\n",
       "      <th>song</th>\n",
       "      <th>timestamp</th>\n",
       "      <th>year</th>\n",
       "      <th>month</th>\n",
       "      <th>weekofyear</th>\n",
       "      <th>hour</th>\n",
       "      <th>weekday</th>\n",
       "    </tr>\n",
       "  </thead>\n",
       "  <tbody>\n",
       "    <tr>\n",
       "      <th>0</th>\n",
       "      <td>Daniel Santacruz</td>\n",
       "      <td>NaN</td>\n",
       "      <td>Lento</td>\n",
       "      <td>2020-02-06 16:45:00</td>\n",
       "      <td>2020</td>\n",
       "      <td>2</td>\n",
       "      <td>6</td>\n",
       "      <td>16</td>\n",
       "      <td>3</td>\n",
       "    </tr>\n",
       "    <tr>\n",
       "      <th>1</th>\n",
       "      <td>Mau y Ricky</td>\n",
       "      <td>Para Aventuras y Curiosidades</td>\n",
       "      <td>Mi Mala</td>\n",
       "      <td>2020-02-06 16:27:00</td>\n",
       "      <td>2020</td>\n",
       "      <td>2</td>\n",
       "      <td>6</td>\n",
       "      <td>16</td>\n",
       "      <td>3</td>\n",
       "    </tr>\n",
       "    <tr>\n",
       "      <th>2</th>\n",
       "      <td>Nelson Freitas</td>\n",
       "      <td>Elevate</td>\n",
       "      <td>Something Good</td>\n",
       "      <td>2020-02-06 16:23:00</td>\n",
       "      <td>2020</td>\n",
       "      <td>2</td>\n",
       "      <td>6</td>\n",
       "      <td>16</td>\n",
       "      <td>3</td>\n",
       "    </tr>\n",
       "    <tr>\n",
       "      <th>3</th>\n",
       "      <td>Jennifer Dias</td>\n",
       "      <td>Love U</td>\n",
       "      <td>Love U</td>\n",
       "      <td>2020-02-06 16:22:00</td>\n",
       "      <td>2020</td>\n",
       "      <td>2</td>\n",
       "      <td>6</td>\n",
       "      <td>16</td>\n",
       "      <td>3</td>\n",
       "    </tr>\n",
       "    <tr>\n",
       "      <th>4</th>\n",
       "      <td>Nelson Freitas</td>\n",
       "      <td>Sempre Verão</td>\n",
       "      <td>Every Day All Day</td>\n",
       "      <td>2020-02-06 16:18:00</td>\n",
       "      <td>2020</td>\n",
       "      <td>2</td>\n",
       "      <td>6</td>\n",
       "      <td>16</td>\n",
       "      <td>3</td>\n",
       "    </tr>\n",
       "  </tbody>\n",
       "</table>\n",
       "</div>"
      ],
      "text/plain": [
       "             artist                          album               song  \\\n",
       "0  Daniel Santacruz                            NaN              Lento   \n",
       "1       Mau y Ricky  Para Aventuras y Curiosidades            Mi Mala   \n",
       "2    Nelson Freitas                        Elevate     Something Good   \n",
       "3     Jennifer Dias                         Love U             Love U   \n",
       "4    Nelson Freitas                   Sempre Verão  Every Day All Day   \n",
       "\n",
       "            timestamp  year  month  weekofyear  hour  weekday  \n",
       "0 2020-02-06 16:45:00  2020      2           6    16        3  \n",
       "1 2020-02-06 16:27:00  2020      2           6    16        3  \n",
       "2 2020-02-06 16:23:00  2020      2           6    16        3  \n",
       "3 2020-02-06 16:22:00  2020      2           6    16        3  \n",
       "4 2020-02-06 16:18:00  2020      2           6    16        3  "
      ]
     },
     "execution_count": 10,
     "metadata": {},
     "output_type": "execute_result"
    }
   ],
   "source": [
    "df.head()"
   ]
  },
  {
   "cell_type": "markdown",
   "metadata": {},
   "source": [
    "Next I wanted to have the overall statistics as for example \"played songs per year\" or \"scrobbels per day\"."
   ]
  },
  {
   "cell_type": "code",
   "execution_count": 12,
   "metadata": {},
   "outputs": [
    {
     "name": "stdout",
     "output_type": "stream",
     "text": [
      "\n",
      "Played songs per year:\n",
      "2015    12691\n",
      "2016    10725\n",
      "2017    12521\n",
      "2018    18003\n",
      "2019    12052\n",
      "2020      963\n",
      "Name: year, dtype: int64\n",
      "\n",
      "Scrobbels per day:\n",
      "2015    34.769863\n",
      "2016    29.383562\n",
      "2017    34.304110\n",
      "2018    49.323288\n",
      "2019    33.019178\n",
      "2020     2.638356\n",
      "Name: year, dtype: float64\n"
     ]
    }
   ],
   "source": [
    "#%% Overall statistics\n",
    "print(\"\\nPlayed songs per year:\\n{}\".format(df['year'].value_counts(sort=False)))\n",
    "print(\"\\nScrobbels per day:\\n{}\".format(df['year'].value_counts(sort=False)/365.))"
   ]
  },
  {
   "cell_type": "markdown",
   "metadata": {},
   "source": [
    "These are exactly the same numbers, as www.last.fm showed me. So everything is fine so far. \n",
    "Now lets examine the \"top artist\", \"top album\", \"top songs\":"
   ]
  },
  {
   "cell_type": "code",
   "execution_count": 16,
   "metadata": {},
   "outputs": [
    {
     "name": "stdout",
     "output_type": "stream",
     "text": [
      "\n",
      "Top artists:\n",
      "Aretha Franklin     1284\n",
      "Caro Emerald         925\n",
      "Paloma Faith         895\n",
      "Dionne Bromfield     739\n",
      "Nikki Yanofsky       678\n",
      "Name: artist, dtype: int64\n",
      "\n",
      "Top album:\n",
      "Soul Queen                                       576\n",
      "Good for the Soul                                508\n",
      "Do You Want the Truth or Something Beautiful?    451\n",
      "Greatest Hits                                    405\n",
      "Emerald Island EP                                394\n",
      "Name: album, dtype: int64\n",
      "\n",
      "Top songs:\n",
      "Without You                    185\n",
      "He's So Fine                   158\n",
      "Good for the Soul              152\n",
      "It's A Beautiful Day           149\n",
      "Hallelujah                     149\n",
      "This Guy's In Love With You    135\n",
      "White Christmas                126\n",
      "Cheek to Cheek                 123\n",
      "Yeah Right                     117\n",
      "Tangled Up                     115\n",
      "Name: song, dtype: int64\n"
     ]
    }
   ],
   "source": [
    "print(\"\\nTop artists:\\n{}\".format(df['artist'].value_counts().head()))\n",
    "print(\"\\nTop album:\\n{}\".format(df['album'].value_counts().head()))\n",
    "print(\"\\nTop songs:\\n{}\".format(df['song'].value_counts().head(10)))"
   ]
  },
  {
   "cell_type": "markdown",
   "metadata": {},
   "source": [
    "Next, I want to define a year / mont / weekofyear and see some more detailled statistics:"
   ]
  },
  {
   "cell_type": "code",
   "execution_count": 27,
   "metadata": {},
   "outputs": [
    {
     "name": "stdout",
     "output_type": "stream",
     "text": [
      "\n",
      "All songs in year 2018:\n",
      "                             artist  \\\n",
      "13015                Stevie Wonder   \n",
      "13016                  Deep Purple   \n",
      "13017                Michael Bublé   \n",
      "13018                 Jimi Hendrix   \n",
      "13019                 Foo Fighters   \n",
      "...                            ...   \n",
      "31013  Sharon Jones  The Dap-Kings   \n",
      "31014                    Izzy Bizu   \n",
      "31015               Sinead Harnett   \n",
      "31016                  Marvin Gaye   \n",
      "31017                  Norah Jones   \n",
      "\n",
      "                                                   album  \\\n",
      "13015                                        Number Ones   \n",
      "13016      Deepest Purple - The Very Best Of Deep Purple   \n",
      "13017                                          It's Time   \n",
      "13018          Voodoo Child: The Jimi Hendrix Collection   \n",
      "13019                                      Greatest Hits   \n",
      "...                                                  ...   \n",
      "31013                                    Soul of a Woman   \n",
      "31014                                            Diamond   \n",
      "31015                                        Chapter One   \n",
      "31016                            Greatest Hits (Reissue)   \n",
      "31017  Resistance Radio: The Man in the High Castle A...   \n",
      "\n",
      "                                song  \n",
      "13015                   Superstition  \n",
      "13016                  Child in Time  \n",
      "13017                           Home  \n",
      "13018                    Little Wing  \n",
      "13019                  The Pretender  \n",
      "...                              ...  \n",
      "31013         Just Give Me Your Time  \n",
      "31014                        Diamond  \n",
      "31015               Want It With You  \n",
      "31016  Ain't No Mountain High Enough  \n",
      "31017               Unchained Melody  \n",
      "\n",
      "[18003 rows x 3 columns]\n",
      "\n",
      "Top artists:\n",
      "Aretha Franklin     1105\n",
      "Tommy Jaud           226\n",
      "Paloma Faith         195\n",
      "Amy Winehouse        164\n",
      "Jazmine Sullivan     164\n",
      "Name: artist, dtype: int64\n",
      "\n",
      "Top songs:\n",
      "White Christmas                48\n",
      "Mercy                          48\n",
      "If You Don't Know Me by Now    48\n",
      "Figures                        46\n",
      "This Girl                      43\n",
      "Ain't No Sunshine              42\n",
      "Cheek to Cheek                 42\n",
      "Stupid Girl                    41\n",
      "I Say a Little Prayer          41\n",
      "I'd Rather Go Blind            41\n",
      "Name: song, dtype: int64\n"
     ]
    }
   ],
   "source": [
    "#%% Defining a year / month / weekofyear for examination\n",
    "myYear = 2018\n",
    "myMonth = 5\n",
    "myWeekofYear = 21\n",
    "\n",
    "#%% Examine selected year \n",
    "print(\"\\nAll songs in year %s:\\n\"%(myYear), df.loc[df['year'] == myYear, ['artist', 'album', 'song']])\n",
    "selection = df.loc[df['year'] == myYear, ['artist', 'album', 'song', 'month']]\n",
    "selectionPrev = df.loc[df['year'] == myYear-1, ['artist', 'album', 'song', 'month']]\n",
    "print(\"\\nTop artists:\\n{}\".format(selection['artist'].value_counts().head()))\n",
    "print(\"\\nTop songs:\\n{}\".format(selection['song'].value_counts().head(10)))"
   ]
  },
  {
   "cell_type": "markdown",
   "metadata": {},
   "source": [
    "Now let's approach the bar-plots, which show the monthly aggregated total of played songs for the selected year and for the previous year: "
   ]
  },
  {
   "cell_type": "code",
   "execution_count": 28,
   "metadata": {},
   "outputs": [
    {
     "name": "stdout",
     "output_type": "stream",
     "text": [
      "\n",
      "Scrobbels per month in 2018:\n",
      "1     2282\n",
      "2     2285\n",
      "3     1054\n",
      "4     1345\n",
      "5     1383\n",
      "6     1100\n",
      "7     1965\n",
      "8     1237\n",
      "9     1859\n",
      "10     681\n",
      "11    1499\n",
      "12    1313\n",
      "Name: month, dtype: int64\n",
      "\n",
      "Scrobbels per month in 2017:\n",
      "1      999\n",
      "2      978\n",
      "3     3565\n",
      "4      730\n",
      "5      270\n",
      "6      335\n",
      "7      167\n",
      "8      559\n",
      "9     1526\n",
      "10     834\n",
      "11    1554\n",
      "12    1004\n",
      "Name: month, dtype: int64\n"
     ]
    }
   ],
   "source": [
    "perMonth = selection['month'].value_counts().sort_index()\n",
    "perMonthPrev = selectionPrev['month'].value_counts().sort_index()\n",
    "print(\"\\nScrobbels per month in {}:\\n{}\".format(myYear, perMonth))\n",
    "print(\"\\nScrobbels per month in {}:\\n{}\".format(myYear-1, perMonthPrev))"
   ]
  },
  {
   "cell_type": "code",
   "execution_count": 29,
   "metadata": {},
   "outputs": [
    {
     "data": {
      "image/png": "[encoded data removed]",
      "text/plain": [
       "<Figure size 432x288 with 1 Axes>"
      ]
     },
     "metadata": {
      "needs_background": "light"
     },
     "output_type": "display_data"
    }
   ],
   "source": [
    "index = np.arange(12)\n",
    "pltperMonth = pyplot.bar(index, perMonth, width=0.3, label=myYear, color='red')\n",
    "pltperMonthPrev = pyplot.bar(index - 0.3, perMonthPrev, width=0.3, label=myYear-1, color='peachpuff')\n",
    "pyplot.title('Year {}. Scrobbels per month.'.format(myYear))\n",
    "pyplot.xticks(index, ('Jan', 'Feb', 'Mär', 'Apr', 'Mai', 'Jun', 'Jul', 'Aug', 'Sep', 'Okt', 'Nov', 'Dez'))\n",
    "pyplot.legend()\n",
    "pyplot.show()"
   ]
  },
  {
   "cell_type": "markdown",
   "metadata": {},
   "source": [
    "This is nice. Exactly the same graph as www.last.fm showed me.\n",
    "\n",
    "Next, lets see, if selecting a specific month is also possible: "
   ]
  },
  {
   "cell_type": "code",
   "execution_count": 34,
   "metadata": {},
   "outputs": [
    {
     "name": "stdout",
     "output_type": "stream",
     "text": [
      "\n",
      "Only month 5 in 2018:\n",
      "                 artist                                    album  \\\n",
      "22669           Waldeck  Saint-Germain-des-Prés-Café - Anthology   \n",
      "22670       Erin Boheme                             What Love Is   \n",
      "22671            Kovacs                          Shades of Black   \n",
      "22672       Erin Boheme                             What Love Is   \n",
      "22673           Aphrose                                  Move On   \n",
      "...                 ...                                      ...   \n",
      "24047              Emma                               Essere Qui   \n",
      "24048  Lo Stato Sociale                                  Primati   \n",
      "24049  Cesare Cremonini                        Possibili Scenari   \n",
      "24050             Bülow                           Damaged Vol. 1   \n",
      "24051      Alvaro Soler                               La Cintura   \n",
      "\n",
      "                             song           timestamp  \n",
      "22669                    Memories 2018-05-31 21:06:00  \n",
      "22670        One Night With Frank 2018-05-31 21:06:00  \n",
      "22671                     My Love 2018-05-31 21:02:00  \n",
      "22672        One Night With Frank 2018-05-31 21:02:00  \n",
      "22673                     Move On 2018-05-31 20:58:00  \n",
      "...                           ...                 ...  \n",
      "24047              Effetto Domino 2018-05-02 12:26:00  \n",
      "24048         Una Vita In Vacanza 2018-05-02 12:22:00  \n",
      "24049  Nessuno Vuole Essere Robin 2018-05-02 12:18:00  \n",
      "24050             Not A Love Song 2018-05-02 07:30:00  \n",
      "24051                  La Cintura 2018-05-02 07:24:00  \n",
      "\n",
      "[1383 rows x 4 columns]\n",
      "\n",
      "Top Artists in 5/2018:\n",
      "Alessandra Amoroso    30\n",
      "Kat Edmonson          23\n",
      "Max Gazzè             22\n",
      "Amy Winehouse         19\n",
      "Sidney Bechet         19\n",
      "Name: artist, dtype: int64\n",
      "\n",
      "Top Songs in 5/2018:\n",
      "Just a Gigolo              14\n",
      "Non je ne regrette rien    13\n",
      "Stones                     13\n",
      "Roma d'estate              12\n",
      "Ti sembra normale          12\n",
      "Name: song, dtype: int64\n"
     ]
    }
   ],
   "source": [
    "isyear = (df['year'] == myYear)\n",
    "ismonth =  (df['month'] == myMonth)\n",
    "selection = df.loc[isyear & ismonth, ['artist', 'album', 'song', 'timestamp']]\n",
    "\n",
    "print (\"\\nOnly month {} in {}:\\n{}\".format(myMonth, myYear, selection))\n",
    "print(\"\\nTop Artists in {}/{}:\\n{}\".format(myMonth, myYear, selection['artist'].value_counts().head(5)))\n",
    "print(\"\\nTop Songs in {}/{}:\\n{}\".format(myMonth, myYear, selection['song'].value_counts().head(5)))"
   ]
  },
  {
   "cell_type": "markdown",
   "metadata": {},
   "source": [
    "And what about all songs in an selected intervall (between two dates)?"
   ]
  },
  {
   "cell_type": "code",
   "execution_count": 37,
   "metadata": {},
   "outputs": [
    {
     "name": "stdout",
     "output_type": "stream",
     "text": [
      "\n",
      "Songs played between 2018-12-20 and 2018-12-31:\n",
      "                                artist                            album  \\\n",
      "13047                     Clean Bandit  Baby (feat. Marina  Luis Fonsi)   \n",
      "13048                     Clean Bandit         Solo (feat. Demi Lovato)   \n",
      "13049                      Post Malone              beerbongs  bentleys   \n",
      "13050                          Ava Max                 Sweet but Psycho   \n",
      "13051                           Dynoro                       In My Mind   \n",
      "...                                ...                              ...   \n",
      "13680                     Eric Clapton                       Happy Xmas   \n",
      "13681                            Slade             Merry Xmas Everybody   \n",
      "13682                      The Bangles                    Greatest Hits   \n",
      "13683  Tom Petty and The Heartbreakers       A Very Special Christmas 2   \n",
      "13684                  Aretha Franklin                       Soul Queen   \n",
      "\n",
      "                                  song  \n",
      "13047  Baby (feat. Marina  Luis Fonsi)  \n",
      "13048         Solo (feat. Demi Lovato)  \n",
      "13049                       Better Now  \n",
      "13050                 Sweet but Psycho  \n",
      "13051                       In My Mind  \n",
      "...                                ...  \n",
      "13680                   It's Christmas  \n",
      "13681             Merry Xmas Everybody  \n",
      "13682             Hazy Shade of Winter  \n",
      "13683         Christmas All Over Again  \n",
      "13684       Bridge Over Troubled Water  \n",
      "\n",
      "[638 rows x 3 columns]\n"
     ]
    }
   ],
   "source": [
    "#%% All songs afterDateX and beforeDateY\n",
    "X = '2018-12-20' \n",
    "Y = '2018-12-31'\n",
    "print(\"\\nSongs played between %s and %s:\" %(X, Y))\n",
    "afterDateX = df['timestamp'] >= X \n",
    "beforeDateY = df['timestamp'] <= Y \n",
    "print(df.loc[afterDateX & beforeDateY, ['artist', 'album', 'song']])"
   ]
  },
  {
   "cell_type": "code",
   "execution_count": 49,
   "metadata": {},
   "outputs": [
    {
     "data": {
      "image/png": "[encoded data removed]",
      "text/plain": [
       "<Figure size 432x288 with 1 Axes>"
      ]
     },
     "metadata": {
      "needs_background": "light"
     },
     "output_type": "display_data"
    }
   ],
   "source": [
    "#%% Listening Clock\n",
    "isweekofyear= (df['weekofyear'] == myWeekofYear)\n",
    "selection = df.loc[isyear & isweekofyear, ['hour']]\n",
    "#selection = df.loc[df['year'] == myYear, ['artist', 'album', 'song', 'month', 'hour', 'year']]\n",
    "index = np.arange(24)\n",
    "perHour = myselection['hour'].value_counts().sort_index()\n",
    "pltperHour = pyplot.subplot(111)#, projection='polar')\n",
    "# pltperHour.set_theta_zero_location(\"N\")\n",
    "pltperHour.bar(perHour.index, perHour, width=0.3, color='blue', alpha=0.5)\n",
    "#pltperHour.set_xticklabels(['00', '', '18', '', '12', '', '06', ''])\n",
    "pltperHour.set_xticks(index)\n",
    "pyplot.title('Year {}, Week-of-Year {}. Scrobbels per hour.'.format(myYear, myWeekofYear))\n",
    "pyplot.show()"
   ]
  },
  {
   "cell_type": "code",
   "execution_count": null,
   "metadata": {},
   "outputs": [],
   "source": []
  }
 ],
 "metadata": {
  "kernelspec": {
   "display_name": "Python 3",
   "language": "python",
   "name": "python3"
  },
  "language_info": {
   "codemirror_mode": {
    "name": "ipython",
    "version": 3
   },
   "file_extension": ".py",
   "mimetype": "text/x-python",
   "name": "python",
   "nbconvert_exporter": "python",
   "pygments_lexer": "ipython3",
   "version": "3.7.6"
  }
 },
 "nbformat": 4,
 "nbformat_minor": 2
}
